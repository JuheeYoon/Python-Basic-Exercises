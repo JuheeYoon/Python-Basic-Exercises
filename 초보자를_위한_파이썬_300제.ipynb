{
  "nbformat": 4,
  "nbformat_minor": 0,
  "metadata": {
    "colab": {
      "provenance": [],
      "collapsed_sections": [
        "kEO0P7-SKvnU",
        "BDMebFbIM1bo",
        "u0Y2G7WcNRa5",
        "LcZWcaLbN0QX",
        "8SYrM87vOOHS",
        "U1by0lbsRjGs",
        "EHWM1vuFS8cA",
        "rG79hvcaTxAk",
        "4MZ06vg1UAWp",
        "5YIE-k45UtNu",
        "nfxRXYk0V2-N",
        "iufxA8C9WIUl",
        "75UzDp8xW81K",
        "xAZ_UAk7XblE",
        "-CJlnhItXz9E",
        "JlSELum_bDQb",
        "BF8FSBIHe8VM",
        "7SNEbP25fzG6",
        "MW3sdaT8gIZ4",
        "acInIdS0gaFj"
      ]
    },
    "kernelspec": {
      "name": "python3",
      "display_name": "Python 3"
    },
    "language_info": {
      "name": "python"
    }
  },
  "cells": [
    {
      "cell_type": "markdown",
      "source": [
        "# **20.**\n",
        "에어컨이 월 48,584원에 무이자 36개월의 조건으로 홈쇼핑에서 판매되고 있다. 총 금액은 계산한 후 이를 화면에 출력하기"
      ],
      "metadata": {
        "id": "kEO0P7-SKvnU"
      }
    },
    {
      "cell_type": "code",
      "source": [
        "price = 48584 ; month = 36\n",
        "print(price*month)"
      ],
      "metadata": {
        "colab": {
          "base_uri": "https://localhost:8080/"
        },
        "id": "KRjvE0ayLiaF",
        "outputId": "ad06407c-60d6-4742-a434-6e6b9a0f4545"
      },
      "execution_count": null,
      "outputs": [
        {
          "output_type": "stream",
          "name": "stdout",
          "text": [
            "1749024\n"
          ]
        }
      ]
    },
    {
      "cell_type": "markdown",
      "source": [
        "# **21.**\n",
        "letters에 python을 바인딩하고 그 문자열에서 첫 번째와 세 번째 문자를 출력하기"
      ],
      "metadata": {
        "id": "BDMebFbIM1bo"
      }
    },
    {
      "cell_type": "code",
      "source": [
        "letters = 'python'\n",
        "print(letters[1-1],letters[3-1])"
      ],
      "metadata": {
        "colab": {
          "base_uri": "https://localhost:8080/"
        },
        "id": "gcb8BgV_NHIx",
        "outputId": "cef50cd2-5c4d-4dd4-d554-6e64161c7a54"
      },
      "execution_count": null,
      "outputs": [
        {
          "output_type": "stream",
          "name": "stdout",
          "text": [
            "p t\n"
          ]
        }
      ]
    },
    {
      "cell_type": "markdown",
      "source": [
        "# **22.**\n",
        "자동차 번호가 '24가 2210'일 때, 뒤에 4자리만 출력하기"
      ],
      "metadata": {
        "id": "u0Y2G7WcNRa5"
      }
    },
    {
      "cell_type": "code",
      "source": [
        "license_plate = '24가 2210'\n",
        "print(license_plate[-4:])"
      ],
      "metadata": {
        "colab": {
          "base_uri": "https://localhost:8080/"
        },
        "id": "tlGIlRnQNcib",
        "outputId": "b94cca1f-9e0e-4699-f736-ea8c135274c4"
      },
      "execution_count": null,
      "outputs": [
        {
          "output_type": "stream",
          "name": "stdout",
          "text": [
            "2210\n"
          ]
        }
      ]
    },
    {
      "cell_type": "markdown",
      "source": [
        "# **24.**\n",
        "문자열 'PYTHON'을 거꾸로 뒤집어 출력하기\n",
        "\n",
        "※ **리스트 슬라이싱 : [시작:끝:증감폭]**"
      ],
      "metadata": {
        "id": "LcZWcaLbN0QX"
      }
    },
    {
      "cell_type": "code",
      "source": [
        "string = 'PYTHON'\n",
        "print(string[::-1])"
      ],
      "metadata": {
        "colab": {
          "base_uri": "https://localhost:8080/"
        },
        "id": "WRGQ-sTdN7EV",
        "outputId": "ca029bff-67e6-4323-e2be-e7e211be110c"
      },
      "execution_count": null,
      "outputs": [
        {
          "output_type": "stream",
          "name": "stdout",
          "text": [
            "NOHTYP\n"
          ]
        }
      ]
    },
    {
      "cell_type": "markdown",
      "source": [
        "# **25.**\n",
        "전화번호 '010-1111-2222'에서 하이푼('-')을 제거하고 출력하기"
      ],
      "metadata": {
        "id": "8SYrM87vOOHS"
      }
    },
    {
      "cell_type": "code",
      "source": [
        "phone_number = '010-1111-2222'\n",
        "phone_number = phone_number.replace('-',' ')\n",
        "print(phone_number)"
      ],
      "metadata": {
        "colab": {
          "base_uri": "https://localhost:8080/"
        },
        "id": "6gk83TIsOV5d",
        "outputId": "acdf4b9d-5e75-45f7-b20f-fb5f19b3513f"
      },
      "execution_count": null,
      "outputs": [
        {
          "output_type": "stream",
          "name": "stdout",
          "text": [
            "010 1111 2222\n"
          ]
        }
      ]
    },
    {
      "cell_type": "markdown",
      "source": [
        "# **34.**\n",
        "변수에 'python'과 'java'를 바인딩하고, 문자열 더하기와 문자열 곱하기를 사용해서 python java python java python java python java 출력하기"
      ],
      "metadata": {
        "id": "U1by0lbsRjGs"
      }
    },
    {
      "cell_type": "code",
      "source": [
        "t1 = 'python'\n",
        "t2 = 'java'\n",
        "\n",
        "print((t1+' '+t2+' ')*4)"
      ],
      "metadata": {
        "colab": {
          "base_uri": "https://localhost:8080/"
        },
        "id": "dzIYAdDiSfz2",
        "outputId": "f3111181-5d19-47b6-e5ab-4dfac5f8c6c2"
      },
      "execution_count": null,
      "outputs": [
        {
          "output_type": "stream",
          "name": "stdout",
          "text": [
            "python java python java python java python java \n"
          ]
        }
      ]
    },
    {
      "cell_type": "markdown",
      "source": [
        "# **37.**\n",
        "파이썬 3.6부터 지원하는 f-string을 사용해서 바인딩되는 문자열과 정수를 출력하기"
      ],
      "metadata": {
        "id": "EHWM1vuFS8cA"
      }
    },
    {
      "cell_type": "code",
      "source": [
        "name1 = '김민수' ; age1 = 10\n",
        "name2 = '이철희' ; age2 = 13\n",
        "\n",
        "print(f'이름 : {name1} , 나이 : {age1}')\n",
        "print(f'이름 : {name2} , 나이 : {age2}')"
      ],
      "metadata": {
        "colab": {
          "base_uri": "https://localhost:8080/"
        },
        "id": "nAStACRxTJGM",
        "outputId": "cc705a38-493c-4ac6-8016-03fe9f374969"
      },
      "execution_count": null,
      "outputs": [
        {
          "output_type": "stream",
          "name": "stdout",
          "text": [
            "이름 : 김민수 , 나이 : 10\n",
            "이름 : 이철희 , 나이 : 13\n"
          ]
        }
      ]
    },
    {
      "cell_type": "markdown",
      "source": [
        "# **40.**\n",
        "문자열의 좌우의 공백이 있을 때, 이를 제거하기"
      ],
      "metadata": {
        "id": "rG79hvcaTxAk"
      }
    },
    {
      "cell_type": "code",
      "source": [
        "data = '    삼성전자    '\n",
        "data = data.strip()\n",
        "print(data)"
      ],
      "metadata": {
        "colab": {
          "base_uri": "https://localhost:8080/"
        },
        "id": "4QWtpTkWT3Ys",
        "outputId": "15bb5e1b-4074-4f01-edd8-816d9244c7f8"
      },
      "execution_count": null,
      "outputs": [
        {
          "output_type": "stream",
          "name": "stdout",
          "text": [
            "삼성전자\n"
          ]
        }
      ]
    },
    {
      "cell_type": "markdown",
      "source": [
        "# **41, 42.**\n",
        "문자열을 대문자 or 소문자로 변경하기"
      ],
      "metadata": {
        "id": "4MZ06vg1UAWp"
      }
    },
    {
      "cell_type": "code",
      "source": [
        "ticker = 'btc_krw'\n",
        "ticker = ticker.upper()\n",
        "print(ticker)"
      ],
      "metadata": {
        "colab": {
          "base_uri": "https://localhost:8080/"
        },
        "id": "hLW_VdFCUTc_",
        "outputId": "e465c400-eebb-4c27-f0e9-747c60b49c4d"
      },
      "execution_count": null,
      "outputs": [
        {
          "output_type": "stream",
          "name": "stdout",
          "text": [
            "BTC_KRW\n"
          ]
        }
      ]
    },
    {
      "cell_type": "code",
      "source": [
        "ticker = 'BTC_KRW'\n",
        "ticker = ticker.lower()\n",
        "print(ticker)"
      ],
      "metadata": {
        "colab": {
          "base_uri": "https://localhost:8080/"
        },
        "id": "yyYTPCgKUdQx",
        "outputId": "c31ebc00-51d2-4783-fe31-8b85495e209f"
      },
      "execution_count": null,
      "outputs": [
        {
          "output_type": "stream",
          "name": "stdout",
          "text": [
            "btc_krw\n"
          ]
        }
      ]
    },
    {
      "cell_type": "markdown",
      "source": [
        "# **45.**\n",
        "파일 이름이 'xlsx'나 'xls'로 끝나는지 확인하기"
      ],
      "metadata": {
        "id": "5YIE-k45UtNu"
      }
    },
    {
      "cell_type": "code",
      "source": [
        "file_name = '보고서.xlsx'\n",
        "\n",
        "file_name.endswith(('xlsx','xls'))"
      ],
      "metadata": {
        "colab": {
          "base_uri": "https://localhost:8080/"
        },
        "id": "gCte1kLeVkhn",
        "outputId": "a732a355-b6fb-49ac-b81d-b8d27290147c"
      },
      "execution_count": null,
      "outputs": [
        {
          "output_type": "execute_result",
          "data": {
            "text/plain": [
              "True"
            ]
          },
          "metadata": {},
          "execution_count": 25
        }
      ]
    },
    {
      "cell_type": "markdown",
      "source": [
        "# **46.**\n",
        "파일 이름이 '2020'로 시작하는지 확인하기"
      ],
      "metadata": {
        "id": "nfxRXYk0V2-N"
      }
    },
    {
      "cell_type": "code",
      "source": [
        "file_name = '2020_보고서.xlsx'\n",
        "file_name.startswith('2020')"
      ],
      "metadata": {
        "colab": {
          "base_uri": "https://localhost:8080/"
        },
        "id": "jDCUmz8GV-4Y",
        "outputId": "ffa39678-6301-4c59-a0bf-b11d1d18b29f"
      },
      "execution_count": null,
      "outputs": [
        {
          "output_type": "execute_result",
          "data": {
            "text/plain": [
              "True"
            ]
          },
          "metadata": {},
          "execution_count": 26
        }
      ]
    },
    {
      "cell_type": "markdown",
      "source": [
        "# **50.**\n",
        "문자열의 오른쪽에 공백이 있을 때 이를 제거해보기\n",
        "\n",
        "※ rstrip() : 오른쪽 공백이 제거된 새로운 문자열 객체 반환"
      ],
      "metadata": {
        "id": "iufxA8C9WIUl"
      }
    },
    {
      "cell_type": "code",
      "source": [
        "data = '039490     '\n",
        "\n",
        "data = data.rstrip()\n",
        "print(data)"
      ],
      "metadata": {
        "colab": {
          "base_uri": "https://localhost:8080/"
        },
        "id": "dIIz7uzBWifm",
        "outputId": "273309dd-2bff-4d89-cd3f-b66b642303ca"
      },
      "execution_count": null,
      "outputs": [
        {
          "output_type": "stream",
          "name": "stdout",
          "text": [
            "039490\n"
          ]
        }
      ]
    },
    {
      "cell_type": "markdown",
      "source": [
        "# **53.**\n",
        "movie_rank 리스트에 '슈퍼맨'을 '닥터 스트레인지'와 '스플릿' 사이에 추가하기"
      ],
      "metadata": {
        "id": "75UzDp8xW81K"
      }
    },
    {
      "cell_type": "code",
      "source": [
        "movie_rank = ['닥터 스트레인지','스플릿','럭키','배트맨']\n",
        "\n",
        "movie_rank.insert(1,'슈퍼맨')\n",
        "print(movie_rank)"
      ],
      "metadata": {
        "colab": {
          "base_uri": "https://localhost:8080/"
        },
        "id": "AEbmS6fdXEtF",
        "outputId": "3a9212ae-5584-483f-8608-824372925332"
      },
      "execution_count": null,
      "outputs": [
        {
          "output_type": "stream",
          "name": "stdout",
          "text": [
            "['닥터 스트레인지', '슈퍼맨', '스플릿', '럭키', '배트맨']\n"
          ]
        }
      ]
    },
    {
      "cell_type": "markdown",
      "source": [
        "# **54.**\n",
        "movie_rank 리스트에서 '럭키'를 삭제하기"
      ],
      "metadata": {
        "id": "xAZ_UAk7XblE"
      }
    },
    {
      "cell_type": "code",
      "source": [
        "movie_rank = ['닥터 스트레인지', '슈퍼맨', '스플릿', '럭키', '배트맨']\n",
        "del movie_rank[3]\n",
        "print(movie_rank)"
      ],
      "metadata": {
        "colab": {
          "base_uri": "https://localhost:8080/"
        },
        "id": "sBAN8RGEXhub",
        "outputId": "1fc532cf-b4da-4054-cc05-967277ba56be"
      },
      "execution_count": null,
      "outputs": [
        {
          "output_type": "stream",
          "name": "stdout",
          "text": [
            "['닥터 스트레인지', '슈퍼맨', '스플릿', '배트맨']\n"
          ]
        }
      ]
    },
    {
      "cell_type": "markdown",
      "source": [
        "# **67.**\n",
        "interest 리스트를 문자열로 붙이기\n",
        "\n",
        "※ join() : 리스트를 문자열로 붙일 수 있음"
      ],
      "metadata": {
        "id": "-CJlnhItXz9E"
      }
    },
    {
      "cell_type": "code",
      "source": [
        "interest = ['삼성전자', 'LG전자', 'Naver', 'SK하이닉스', '미래에셋대우']\n",
        "print(\"/\".join(interest))"
      ],
      "metadata": {
        "colab": {
          "base_uri": "https://localhost:8080/"
        },
        "id": "RjoU9__ea71I",
        "outputId": "0dbc6c38-e697-4ad9-dbe6-075ca143c3eb"
      },
      "execution_count": null,
      "outputs": [
        {
          "output_type": "stream",
          "name": "stdout",
          "text": [
            "삼성전자/LG전자/Naver/SK하이닉스/미래에셋대우\n"
          ]
        }
      ]
    },
    {
      "cell_type": "markdown",
      "source": [
        "# **81.**\n",
        "10개의 값이 저장된 scores 리스트가 있을 때, start expression(별 표현식)을 사용하여 좌측 8개의 값을 valid_score 변수에 바인딩하기"
      ],
      "metadata": {
        "id": "JlSELum_bDQb"
      }
    },
    {
      "cell_type": "code",
      "source": [
        "scores = [8.8, 8.9, 8.7, 9.2, 9.3, 9.7, 9.9, 9.5, 7.8, 9.4]\n",
        "*valid_score, _, _ = scores\n",
        "print(valid_score)"
      ],
      "metadata": {
        "colab": {
          "base_uri": "https://localhost:8080/"
        },
        "id": "4ETzOUnmePrW",
        "outputId": "0e1115fb-5594-4807-c057-45f6ed489fba"
      },
      "execution_count": null,
      "outputs": [
        {
          "output_type": "stream",
          "name": "stdout",
          "text": [
            "[8.8, 8.9, 8.7, 9.2, 9.3, 9.7, 9.9, 9.5]\n"
          ]
        }
      ]
    },
    {
      "cell_type": "markdown",
      "source": [
        "# **89.**\n",
        "딕셔너리에서 메로나를 삭제하기"
      ],
      "metadata": {
        "id": "BF8FSBIHe8VM"
      }
    },
    {
      "cell_type": "code",
      "source": [
        "ice = {'메로나': 1000,\n",
        "       '폴라포': 1200,\n",
        "       '빵빠레': 1800,\n",
        "       '죠스바': 1200,\n",
        "       '월드콘': 1500}\n",
        "\n",
        "del ice[\"메로나\"]\n",
        "print(ice)"
      ],
      "metadata": {
        "colab": {
          "base_uri": "https://localhost:8080/"
        },
        "id": "jVNZkOm7fAwd",
        "outputId": "51583e6d-3c77-4d70-cd5f-586b97bf0f9f"
      },
      "execution_count": null,
      "outputs": [
        {
          "output_type": "stream",
          "name": "stdout",
          "text": [
            "{'폴라포': 1200, '빵빠레': 1800, '죠스바': 1200, '월드콘': 1500}\n"
          ]
        }
      ]
    },
    {
      "cell_type": "markdown",
      "source": [
        "# **98.**\n",
        "아래의 new_product 딕셔너리를 다음 icecream 딕셔너리에 추가하기"
      ],
      "metadata": {
        "id": "7SNEbP25fzG6"
      }
    },
    {
      "cell_type": "code",
      "source": [
        "icecream = {'탱크보이': 1200, '폴라포': 1200, '빵빠레': 1800, '월드콘': 1500, '메로나': 1000}\n",
        "new_product = {'팥빙수':2700, '아맛나':1000}\n",
        "\n",
        "icecream.update(new_product)\n",
        "print(icecream)"
      ],
      "metadata": {
        "colab": {
          "base_uri": "https://localhost:8080/"
        },
        "id": "M4dzV5W1f5vm",
        "outputId": "30477214-cbc0-4fb5-c417-c2ce5c589da2"
      },
      "execution_count": null,
      "outputs": [
        {
          "output_type": "stream",
          "name": "stdout",
          "text": [
            "{'탱크보이': 1200, '폴라포': 1200, '빵빠레': 1800, '월드콘': 1500, '메로나': 1000, '팥빙수': 2700, '아맛나': 1000}\n"
          ]
        }
      ]
    },
    {
      "cell_type": "markdown",
      "source": [
        "# **99.**\n",
        "아래 두 개의 튜플을 하나의 딕셔너리로 변환하라. keys를 키로, vals를 값으로 result 이름의 딕셔너리로 저장하기"
      ],
      "metadata": {
        "id": "MW3sdaT8gIZ4"
      }
    },
    {
      "cell_type": "code",
      "source": [
        "keys = (\"apple\", \"pear\", \"peach\")\n",
        "vals = (300, 250, 400)\n",
        "\n",
        "result = dict(zip(keys, vals))\n",
        "print(result)"
      ],
      "metadata": {
        "colab": {
          "base_uri": "https://localhost:8080/"
        },
        "id": "diCDfphQgOAX",
        "outputId": "385115e5-6d7e-4d83-f985-06a15c2d67de"
      },
      "execution_count": null,
      "outputs": [
        {
          "output_type": "stream",
          "name": "stdout",
          "text": [
            "{'apple': 300, 'pear': 250, 'peach': 400}\n"
          ]
        }
      ]
    },
    {
      "cell_type": "markdown",
      "source": [
        "# **121.**\n",
        "사용자로부터 문자 한 개를 입력 받고, 소문자일 경우 대문자로, 대문자일 경우, 소문자로 변경해서 출력하기\n",
        "\n",
        "※ islower() : 문자의 소문자 여부를 판별"
      ],
      "metadata": {
        "id": "acInIdS0gaFj"
      }
    },
    {
      "cell_type": "code",
      "source": [
        "letter = input('')\n",
        "if letter.islower():\n",
        "  print(letter.upper())\n",
        "else:\n",
        "  print(letter.lower())"
      ],
      "metadata": {
        "colab": {
          "base_uri": "https://localhost:8080/"
        },
        "id": "RxW1l-1mClqI",
        "outputId": "40527d08-57ef-4141-901d-b312a115c813"
      },
      "execution_count": null,
      "outputs": [
        {
          "output_type": "stream",
          "name": "stdout",
          "text": [
            "a\n",
            "A\n"
          ]
        }
      ]
    },
    {
      "cell_type": "markdown",
      "source": [
        "# **129.**\n",
        "주민등록번호는 13자리로 구성되는데 마지막 자리수는 주민등록번호의 유효성을 체크하는데 사용된다. 먼저 앞에서부터 12자리의 숫자에 2, 3, 4, 5, 6, 7, 8, 9, 2, 3, 4, 5를 차례로 곱한 뒤 그 값을 전부 더한다. 연산 결과 값을 11로 나누면 나머지가 나오는데 11에서 나머지를 뺀 값이 주민등록번호의 마지막 번호가 된다."
      ],
      "metadata": {
        "id": "-pbxPSHNGYO2"
      }
    },
    {
      "cell_type": "code",
      "source": [
        "number = input('주민등록번호: ')\n",
        "number1 = number.split('-')[0] + number.split('-')[1]\n",
        "\n",
        "number2 = [2,3,4,5,6,7,8,9,2,3,4,5]\n",
        "\n",
        "s = 0\n",
        "for i in range(len(number2)):\n",
        "  s += int(number1[i])*int(number2[i])\n",
        "\n",
        "if (11-(s % 11)) == int(number1[-1]):\n",
        "  print('유효한 주민등록번호입니다.')\n",
        "else:\n",
        "  print('유효하지 않은 주민등록번호입니다.')"
      ],
      "metadata": {
        "colab": {
          "base_uri": "https://localhost:8080/"
        },
        "id": "Wqypb8CjGxpt",
        "outputId": "a99deac6-e4f4-4dc5-f6a2-a9438a070411"
      },
      "execution_count": null,
      "outputs": [
        {
          "output_type": "stream",
          "name": "stdout",
          "text": [
            "주민등록번호: 821010-1635210\n",
            "유효하지 않은 주민등록번호입니다.\n"
          ]
        }
      ]
    },
    {
      "cell_type": "markdown",
      "source": [
        "# **130.**\n",
        "비트코인의 가격 정보를 딕셔너리로 가져오는 코드를 이용해, btc 딕셔너리 안에는 시가, 종가, 최고가, 최저가 등이 저장되어 있다. 최고가와 최저가의 차이를 변동폭으로 정의할 때 (시가 + 변동폭)이 최고가 보다 높을 경우 \"상승장\", 그렇지 않은 경우 \"하락장\" 문자열을 출력하기\n",
        "\n",
        "|Key Name|Description|\n",
        "|-:-|-:-|\n",
        "|opening_price|최근 24시간 내 시작 거래금액|\n",
        "|closing_price|최근 24시간 내 마지막 거래금액|\n",
        "|min_price|최근 24시간 내 최저 거래금액|\n",
        "|max_price|최근 24시간 내 최고 거래금액|"
      ],
      "metadata": {
        "id": "B6u48TugKErZ"
      }
    },
    {
      "cell_type": "code",
      "source": [
        "import requests\n",
        "btc = requests.get(\"https://api.bithumb.com/public/ticker/\").json()['data']\n",
        "print(btc)\n",
        "\n",
        "변동폭 = int(btc['max_price']) - int(btc['min_price'])\n",
        "시가 = int(btc['opening_price'])\n",
        "\n",
        "if 시가+변동폭 > int(btc['max_price']):\n",
        "  print('상승장')\n",
        "else:\n",
        "  print('하락장')"
      ],
      "metadata": {
        "colab": {
          "base_uri": "https://localhost:8080/"
        },
        "id": "YhyFTZFhKd3Z",
        "outputId": "0fe73de8-63ab-44b0-e02c-c7da8a9cf9ea"
      },
      "execution_count": null,
      "outputs": [
        {
          "output_type": "stream",
          "name": "stdout",
          "text": [
            "{'opening_price': '28468000', 'closing_price': '28315000', 'min_price': '28003000', 'max_price': '28825000', 'units_traded': '5503.50299802', 'acc_trade_value': '155978372900.8236', 'prev_closing_price': '28468000', 'units_traded_24H': '7733.42788019', 'acc_trade_value_24H': '218786693743.7596', 'fluctate_24H': '240000', 'fluctate_rate_24H': '0.85', 'date': '1657357236548'}\n",
            "상승장\n"
          ]
        }
      ]
    },
    {
      "cell_type": "markdown",
      "source": [
        "# **179.**\n",
        "리스트에는 6일 간의 종가 데이터가 저장되어 있다. 종가 데이터의 3일 이동 평균을 계산하고 이를 화면에 출력하기"
      ],
      "metadata": {
        "id": "dgzKoqzxM6jT"
      }
    },
    {
      "cell_type": "code",
      "source": [
        "my_list = [100, 200, 400, 800, 1000, 1300]\n",
        "\n",
        "for i in range(4):\n",
        "  print((my_list[i] + my_list[i+1] + my_list[i+2])/3)"
      ],
      "metadata": {
        "colab": {
          "base_uri": "https://localhost:8080/"
        },
        "id": "jb-fSDFndlAg",
        "outputId": "aa288aa4-cd24-4fc4-9618-0164dcf5a9aa"
      },
      "execution_count": null,
      "outputs": [
        {
          "output_type": "stream",
          "name": "stdout",
          "text": [
            "233.33333333333334\n",
            "466.6666666666667\n",
            "733.3333333333334\n",
            "1033.3333333333333\n"
          ]
        }
      ]
    },
    {
      "cell_type": "markdown",
      "source": [
        "# **191.**\n",
        "data에는 매수한 종목들의 OHLC (open/high/low/close) 가격 정보가 바인딩 되어있다. 수수료를 0.014 %로 가정할 때, 각 가격에 수수료를 포함한 가격을 한라인에 하나씩 출력하기"
      ],
      "metadata": {
        "id": "bKITzWtwhhj0"
      }
    },
    {
      "cell_type": "code",
      "source": [
        "data = [\n",
        "    [2000,3050,2050,1980],\n",
        "    [7500,2050,2050,1980],\n",
        "    [15450,15050,15550,14900]\n",
        "]\n",
        "\n",
        "for i in range(len(data)):\n",
        "  for j in range(len(data[i])):\n",
        ""
      ],
      "metadata": {
        "id": "noqlcXhzhsp7"
      },
      "execution_count": null,
      "outputs": []
    }
  ]
}